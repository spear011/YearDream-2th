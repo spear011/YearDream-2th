{
 "cells": [
  {
   "cell_type": "code",
   "execution_count": null,
   "metadata": {},
   "outputs": [],
   "source": [
    "# 각각 인풋으로 나누어 들어감\n",
    "N, M, K = map(int, input().split())\n",
    "n = input()\n",
    "nums = []\n",
    "\n",
    "for i in n.split() :\n",
    "    nums.append(int(i))\n",
    "\n",
    "# 두번째 입력 숫자 하나씩 꺼내서 리스트로 만듬\n",
    "# K번 만큼 더해짐 / 두번째로 큰 수는 어떻게 뽑을까?\n",
    "\n",
    "nums = sorted(nums, reverse=True)[:2]\n",
    "\n",
    "final = []\n",
    "i = 0\n",
    "\n",
    "while i <= int(M) :\n",
    "    while i <= int(K):\n",
    "        for a in nums[0]:\n",
    "            final.append(a)\n",
    "        a += 1\n",
    "    i += 1\n",
    "    final.append(nums[1])\n",
    "\n",
    "final\n",
    "\n",
    "\n",
    "\n"
   ]
  },
  {
   "cell_type": "code",
   "execution_count": 31,
   "metadata": {},
   "outputs": [
    {
     "data": {
      "text/plain": [
       "[6, 6, 6, 5, 5, 5, 5, 5]"
      ]
     },
     "execution_count": 31,
     "metadata": {},
     "output_type": "execute_result"
    }
   ],
   "source": [
    "# 각각 인풋으로 나누어 들어감\n",
    "N, M, K = map(int, input().split())\n",
    "n = input()\n",
    "nums = []\n",
    "\n",
    "for i in n.split() :\n",
    "    nums.append(int(i))\n",
    "\n",
    "# 두번째 입력 숫자 하나씩 꺼내서 리스트로 만듬\n",
    "# K번 만큼 더해짐 / 두번째로 큰 수는 어떻게 뽑을까?\n",
    "\n",
    "nums = sorted(nums, reverse=True)[:2]\n",
    "\n",
    "final = []\n",
    "i = 0\n",
    "\n",
    "while i < int(M) :\n",
    "    while i < int(K):\n",
    "        final.append(nums[0])\n",
    "        i += 1\n",
    "    final.append(nums[1])\n",
    "    i += 1\n",
    "\n",
    "final\n"
   ]
  },
  {
   "cell_type": "code",
   "execution_count": null,
   "metadata": {},
   "outputs": [],
   "source": [
    "# 각각 인풋으로 나누어 들어감\n",
    "N, M, K = map(int, input().split())\n",
    "n = input()\n",
    "nums = []\n",
    "\n",
    "for i in n.split() :\n",
    "    nums.append(int(i))\n",
    "\n",
    "# 두번째 입력 숫자 하나씩 꺼내서 리스트로 만듬\n",
    "# K번 만큼 더해짐 / 두번째로 큰 수는 어떻게 뽑을까?\n",
    "\n",
    "nums = sorted(nums, reverse=True)[:2]\n",
    "\n",
    "final = []\n",
    "i = 0\n",
    "v = 0\n",
    "\n",
    "while i < int(M) :\n",
    "    while v < int(K):\n",
    "        final.append(nums[0])\n",
    "        v += 1\n",
    "    final.append(nums[1])\n",
    "    i = v + 1\n",
    "\n",
    "final\n",
    "\n",
    "# 6 3개 입력까지는 되는데 한번 돌고 끝남\n",
    "# 새로운 변수 v 를 이용해보려고 했으나 무한 루프 돔\n"
   ]
  },
  {
   "cell_type": "code",
   "execution_count": 6,
   "metadata": {},
   "outputs": [
    {
     "data": {
      "text/plain": [
       "184"
      ]
     },
     "execution_count": 6,
     "metadata": {},
     "output_type": "execute_result"
    }
   ],
   "source": [
    "N, M, K = map(int, input().split())\n",
    "n = input()\n",
    "nums = []\n",
    "\n",
    "for i in n.split() :\n",
    "    nums.append(int(i))\n",
    "\n",
    "nums = sorted(nums, reverse=True)[:2]\n",
    "\n",
    "final = []\n",
    "i = 0\n",
    "\n",
    "for i in range(M - K) :\n",
    "    for i in range(K):\n",
    "        final.append(nums[0])\n",
    "    final.append(nums[1])\n",
    "\n",
    "final"
   ]
  },
  {
   "cell_type": "code",
   "execution_count": 13,
   "metadata": {},
   "outputs": [
    {
     "data": {
      "text/plain": [
       "46"
      ]
     },
     "execution_count": 13,
     "metadata": {},
     "output_type": "execute_result"
    }
   ],
   "source": [
    "# 가장 큰수는 M/K 의 몫 만큼 더해지고, 두번째 큰수는 M/K의 나머지 만큼 더해진다.\n",
    "\n",
    "N, M, K = map(int, input().split())\n",
    "n = input()\n",
    "nums = []\n",
    "\n",
    "for i in n.split() :\n",
    "    nums.append(int(i))\n",
    "\n",
    "nums = sorted(nums, reverse=True)[:2]\n",
    "\n",
    "final = []\n",
    "i = 0\n",
    "\n",
    "for i in range(int(M/K)):\n",
    "    for i in range(K) :\n",
    "        final.append(nums[0])\n",
    "\n",
    "for i in range(int(M%K)) :\n",
    "    final.append(nums[1])\n",
    "\n",
    "sum(final)"
   ]
  },
  {
   "cell_type": "code",
   "execution_count": null,
   "metadata": {},
   "outputs": [],
   "source": []
  },
  {
   "cell_type": "code",
   "execution_count": null,
   "metadata": {},
   "outputs": [],
   "source": []
  }
 ],
 "metadata": {
  "kernelspec": {
   "display_name": "han",
   "language": "python",
   "name": "han"
  },
  "language_info": {
   "codemirror_mode": {
    "name": "ipython",
    "version": 3
   },
   "file_extension": ".py",
   "mimetype": "text/x-python",
   "name": "python",
   "nbconvert_exporter": "python",
   "pygments_lexer": "ipython3",
   "version": "3.8.13"
  },
  "orig_nbformat": 4
 },
 "nbformat": 4,
 "nbformat_minor": 2
}
