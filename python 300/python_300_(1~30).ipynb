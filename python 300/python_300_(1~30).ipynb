{
  "nbformat": 4,
  "nbformat_minor": 0,
  "metadata": {
    "colab": {
      "name": "python 300 (1~30).ipynb",
      "provenance": [],
      "collapsed_sections": [],
      "authorship_tag": "ABX9TyNHXYqJ64m3PSGTX0Auu6Ck",
      "include_colab_link": true
    },
    "kernelspec": {
      "name": "python3",
      "display_name": "Python 3"
    },
    "language_info": {
      "name": "python"
    }
  },
  "cells": [
    {
      "cell_type": "markdown",
      "metadata": {
        "id": "view-in-github",
        "colab_type": "text"
      },
      "source": [
        "<a href=\"https://colab.research.google.com/github/spear011/YearDream-2th/blob/python-300/python_300_(1~30).ipynb\" target=\"_parent\"><img src=\"https://colab.research.google.com/assets/colab-badge.svg\" alt=\"Open In Colab\"/></a>"
      ]
    },
    {
      "cell_type": "code",
      "execution_count": null,
      "metadata": {
        "colab": {
          "base_uri": "https://localhost:8080/"
        },
        "id": "QgXasZj1AMm3",
        "outputId": "64588e60-bd2e-4ad2-83b5-a57c1203ed09"
      },
      "outputs": [
        {
          "output_type": "stream",
          "name": "stdout",
          "text": [
            "Hello World\n"
          ]
        }
      ],
      "source": [
        "print(\"Hello World\")"
      ]
    },
    {
      "cell_type": "code",
      "source": [
        "print(\"Mary's cosmetics\")"
      ],
      "metadata": {
        "id": "CFisu9iDAdXW",
        "outputId": "0aefc6c7-ac77-463a-9fb0-4ff843507544",
        "colab": {
          "base_uri": "https://localhost:8080/"
        }
      },
      "execution_count": null,
      "outputs": [
        {
          "output_type": "stream",
          "name": "stdout",
          "text": [
            "Mary's cosmetics\n"
          ]
        }
      ]
    },
    {
      "cell_type": "code",
      "source": [
        "print('신씨가 소리질렀다. \"도둑이야\".')"
      ],
      "metadata": {
        "id": "qSYOjT8XAjtk",
        "outputId": "482e4e16-d3ef-4dad-f93c-af4d64a341c3",
        "colab": {
          "base_uri": "https://localhost:8080/"
        }
      },
      "execution_count": null,
      "outputs": [
        {
          "output_type": "stream",
          "name": "stdout",
          "text": [
            "신씨가 소리질렀다. \"도둑이야\".\n"
          ]
        }
      ]
    },
    {
      "cell_type": "code",
      "source": [
        "print('\"C:\\Windows\"')"
      ],
      "metadata": {
        "id": "8R2Y89U3Asm2",
        "outputId": "b53619e6-6dd4-4da9-d756-f813c6d7f440",
        "colab": {
          "base_uri": "https://localhost:8080/"
        }
      },
      "execution_count": null,
      "outputs": [
        {
          "output_type": "stream",
          "name": "stdout",
          "text": [
            "\"C:\\Windows\"\n"
          ]
        }
      ]
    },
    {
      "cell_type": "code",
      "source": [
        "print(\"안녕하세요.\\n만나서\\t\\t반갑습니다.\")"
      ],
      "metadata": {
        "id": "RzV4puprA4Rk",
        "outputId": "2252842f-9384-42a9-9d71-f14271562263",
        "colab": {
          "base_uri": "https://localhost:8080/"
        }
      },
      "execution_count": null,
      "outputs": [
        {
          "output_type": "stream",
          "name": "stdout",
          "text": [
            "안녕하세요.\n",
            "만나서\t\t반갑습니다.\n"
          ]
        }
      ]
    },
    {
      "cell_type": "code",
      "source": [
        "print (\"오늘은\", \"일요일\")"
      ],
      "metadata": {
        "id": "9Vh_Xp5aA-5-",
        "outputId": "29174d4a-3ba1-4f1b-d16e-d4bae41ee7ec",
        "colab": {
          "base_uri": "https://localhost:8080/"
        }
      },
      "execution_count": null,
      "outputs": [
        {
          "output_type": "stream",
          "name": "stdout",
          "text": [
            "오늘은 일요일\n"
          ]
        }
      ]
    },
    {
      "cell_type": "code",
      "source": [
        "print(\"naver;kakao;sk;samsung\")"
      ],
      "metadata": {
        "id": "j7uz4UcUBHDP",
        "outputId": "58fec3bb-8948-47fd-87b9-bce3734b3f42",
        "colab": {
          "base_uri": "https://localhost:8080/"
        }
      },
      "execution_count": null,
      "outputs": [
        {
          "output_type": "stream",
          "name": "stdout",
          "text": [
            "naver;kakao;sk;samsung\n"
          ]
        }
      ]
    },
    {
      "cell_type": "code",
      "source": [
        "print(\"naver\",\"kakao\",\"samsung\",sep=\"/\")"
      ],
      "metadata": {
        "id": "mmeqO415BSR8",
        "outputId": "e54d606e-0b30-4ae2-e85f-c36e6030a748",
        "colab": {
          "base_uri": "https://localhost:8080/"
        }
      },
      "execution_count": null,
      "outputs": [
        {
          "output_type": "stream",
          "name": "stdout",
          "text": [
            "naver/kakao/samsung\n"
          ]
        }
      ]
    },
    {
      "cell_type": "code",
      "source": [
        "print(\"first\",end=\"시작\");print(\"second\")"
      ],
      "metadata": {
        "id": "lQbu3ILpBjoJ",
        "outputId": "c6c889d1-134e-40b6-e7d2-5b301ac0b67d",
        "colab": {
          "base_uri": "https://localhost:8080/"
        }
      },
      "execution_count": null,
      "outputs": [
        {
          "output_type": "stream",
          "name": "stdout",
          "text": [
            "first시작second\n"
          ]
        }
      ]
    },
    {
      "cell_type": "code",
      "source": [
        "print(5/3)"
      ],
      "metadata": {
        "id": "vlRWMy7VDONh",
        "outputId": "a5278de9-d56a-4723-8131-1f67bf613298",
        "colab": {
          "base_uri": "https://localhost:8080/"
        }
      },
      "execution_count": null,
      "outputs": [
        {
          "output_type": "stream",
          "name": "stdout",
          "text": [
            "1.6666666666666667\n"
          ]
        }
      ]
    },
    {
      "cell_type": "code",
      "source": [
        "삼성전자 = 50000\n",
        "print(삼성전자 * 10)"
      ],
      "metadata": {
        "id": "iExXp4mEEdru",
        "outputId": "052b0c87-24a6-433a-baf0-632518461391",
        "colab": {
          "base_uri": "https://localhost:8080/"
        }
      },
      "execution_count": null,
      "outputs": [
        {
          "output_type": "stream",
          "name": "stdout",
          "text": [
            "500000\n"
          ]
        }
      ]
    },
    {
      "cell_type": "code",
      "source": [
        "시가총액 = 298000000000000\n",
        "현재가 = 50000\n",
        "PER = 15.79\n",
        "print(시가총액, type(시가총액))\n",
        "print(현재가, type(현재가))\n",
        "print(PER, type(PER))"
      ],
      "metadata": {
        "id": "tASyrH5CFE2O",
        "outputId": "1b56ccc4-aa36-4fce-a54e-1eee35b3ac52",
        "colab": {
          "base_uri": "https://localhost:8080/"
        }
      },
      "execution_count": null,
      "outputs": [
        {
          "output_type": "stream",
          "name": "stdout",
          "text": [
            "298000000000000 <class 'int'>\n",
            "50000 <class 'int'>\n",
            "15.79 <class 'float'>\n"
          ]
        }
      ]
    },
    {
      "cell_type": "code",
      "source": [
        "s = \"hello\"\n",
        "t = \"python\""
      ],
      "metadata": {
        "id": "bNFi_IBjGdGo"
      },
      "execution_count": null,
      "outputs": []
    },
    {
      "cell_type": "code",
      "source": [
        "print(s,t,sep='! ')"
      ],
      "metadata": {
        "id": "5SbEMRn0R1Va",
        "outputId": "2f45c66d-7bdd-46b7-a35b-59ce1e83555e",
        "colab": {
          "base_uri": "https://localhost:8080/"
        }
      },
      "execution_count": null,
      "outputs": [
        {
          "output_type": "stream",
          "name": "stdout",
          "text": [
            "hello! python\n"
          ]
        }
      ]
    },
    {
      "cell_type": "code",
      "source": [
        "2+2*3"
      ],
      "metadata": {
        "id": "IAQqUrynSAqN",
        "outputId": "5dc76db2-10bf-4de2-87b5-f020ca970ccd",
        "colab": {
          "base_uri": "https://localhost:8080/"
        }
      },
      "execution_count": null,
      "outputs": [
        {
          "output_type": "execute_result",
          "data": {
            "text/plain": [
              "8"
            ]
          },
          "metadata": {},
          "execution_count": 15
        }
      ]
    },
    {
      "cell_type": "code",
      "source": [
        "a = \"132\"\n",
        "print(type(a))"
      ],
      "metadata": {
        "id": "zU5c3Mx9SeQb",
        "outputId": "e547c51a-5b13-46cb-812a-d7d51ca04b32",
        "colab": {
          "base_uri": "https://localhost:8080/"
        }
      },
      "execution_count": null,
      "outputs": [
        {
          "output_type": "stream",
          "name": "stdout",
          "text": [
            "<class 'str'>\n"
          ]
        }
      ]
    },
    {
      "cell_type": "code",
      "source": [
        "num_str = \"720\"\n",
        "num_int = int(num_str)\n",
        "print(num_int,type(num_int))"
      ],
      "metadata": {
        "id": "hndgkGgUSrKN",
        "outputId": "26705516-6559-45e5-c364-8f280c067261",
        "colab": {
          "base_uri": "https://localhost:8080/"
        }
      },
      "execution_count": null,
      "outputs": [
        {
          "output_type": "stream",
          "name": "stdout",
          "text": [
            "720 <class 'int'>\n"
          ]
        }
      ]
    },
    {
      "cell_type": "code",
      "source": [
        "num = 100\n",
        "num_str= str(num)\n",
        "print(num_str, type(num_str))"
      ],
      "metadata": {
        "id": "oM_irfadTKXx",
        "outputId": "e61bf465-1a0a-461c-b468-6a8bff143547",
        "colab": {
          "base_uri": "https://localhost:8080/"
        }
      },
      "execution_count": null,
      "outputs": [
        {
          "output_type": "stream",
          "name": "stdout",
          "text": [
            "100 <class 'str'>\n"
          ]
        }
      ]
    },
    {
      "cell_type": "code",
      "source": [
        "num = 200\n",
        "result = str(num)\n",
        "print(num, type(result))"
      ],
      "metadata": {
        "id": "jqbgf88mTiTT",
        "outputId": "aa990cc9-35d2-4099-e94b-5b51366d111d",
        "colab": {
          "base_uri": "https://localhost:8080/"
        }
      },
      "execution_count": null,
      "outputs": [
        {
          "output_type": "stream",
          "name": "stdout",
          "text": [
            "200 <class 'str'>\n"
          ]
        }
      ]
    },
    {
      "cell_type": "code",
      "source": [
        "a = 15.79\n",
        "a = float(a)\n",
        "print(a, type(a))"
      ],
      "metadata": {
        "id": "WlAqmVaMT5Sr",
        "outputId": "8740169b-fb0c-4df8-e014-800fd8580a7e",
        "colab": {
          "base_uri": "https://localhost:8080/"
        }
      },
      "execution_count": null,
      "outputs": [
        {
          "output_type": "stream",
          "name": "stdout",
          "text": [
            "15.79 <class 'float'>\n"
          ]
        }
      ]
    },
    {
      "cell_type": "code",
      "source": [
        "year = \"2020\"\n",
        "num_year = int(year)\n",
        "print(num_year-1,num_year,num_year+1)"
      ],
      "metadata": {
        "id": "dtyrLcTcUa0v",
        "outputId": "517b4cff-35a8-4c97-ad28-7b79ed35b68e",
        "colab": {
          "base_uri": "https://localhost:8080/"
        }
      },
      "execution_count": null,
      "outputs": [
        {
          "output_type": "stream",
          "name": "stdout",
          "text": [
            "2019 2020 2021\n"
          ]
        }
      ]
    },
    {
      "cell_type": "code",
      "source": [
        "month = 48584\n",
        "total = month * 36\n",
        "print(total)"
      ],
      "metadata": {
        "id": "tx_8ysu5WGtD",
        "outputId": "b79d9039-f83b-47d7-94bc-cb1deb665143",
        "colab": {
          "base_uri": "https://localhost:8080/"
        }
      },
      "execution_count": null,
      "outputs": [
        {
          "output_type": "stream",
          "name": "stdout",
          "text": [
            "1749024\n"
          ]
        }
      ]
    },
    {
      "cell_type": "code",
      "source": [
        "letters = 'python'\n",
        "print(letters[0], letters[2])"
      ],
      "metadata": {
        "id": "3FLLBUNoWWXC",
        "outputId": "5a3b1619-b312-4c86-bd93-4c45bdcf0ac6",
        "colab": {
          "base_uri": "https://localhost:8080/"
        }
      },
      "execution_count": null,
      "outputs": [
        {
          "output_type": "stream",
          "name": "stdout",
          "text": [
            "p t\n"
          ]
        }
      ]
    },
    {
      "cell_type": "code",
      "source": [
        "license_plate = \"24가 2210\"\n",
        "print(license_plate[3:])"
      ],
      "metadata": {
        "id": "y4NpECoAYj12",
        "outputId": "437c2c9b-bb2a-445c-96ac-8da8195db0dc",
        "colab": {
          "base_uri": "https://localhost:8080/"
        }
      },
      "execution_count": null,
      "outputs": [
        {
          "output_type": "stream",
          "name": "stdout",
          "text": [
            " 2210\n"
          ]
        }
      ]
    },
    {
      "cell_type": "code",
      "source": [
        "string = \"홀짝홀짝홀짝\"\n",
        "print(string [::2])"
      ],
      "metadata": {
        "id": "VtwSFM3tY8dd",
        "outputId": "e46b3484-94e7-4c35-e4e4-1bed3a75c909",
        "colab": {
          "base_uri": "https://localhost:8080/"
        }
      },
      "execution_count": null,
      "outputs": [
        {
          "output_type": "stream",
          "name": "stdout",
          "text": [
            "홀홀홀\n"
          ]
        }
      ]
    },
    {
      "cell_type": "code",
      "source": [
        "string = 'python'\n",
        "print(string[::-1])"
      ],
      "metadata": {
        "id": "ztHhqUeuZU7Q",
        "outputId": "a8a6f4fe-7f46-437d-e8f7-1b2c867c4218",
        "colab": {
          "base_uri": "https://localhost:8080/"
        }
      },
      "execution_count": null,
      "outputs": [
        {
          "output_type": "stream",
          "name": "stdout",
          "text": [
            "nohtyp\n"
          ]
        }
      ]
    },
    {
      "cell_type": "code",
      "source": [
        "phone_number = \"010-1111-2222\"\n",
        "new_number = phone_number.replace('-',' ')\n",
        "print(new_number)"
      ],
      "metadata": {
        "id": "5orFG5kObfkH",
        "outputId": "8a13c640-056d-47f3-ea73-c65e3ff4a202",
        "colab": {
          "base_uri": "https://localhost:8080/"
        }
      },
      "execution_count": null,
      "outputs": [
        {
          "output_type": "stream",
          "name": "stdout",
          "text": [
            "010 1111 2222\n"
          ]
        }
      ]
    },
    {
      "cell_type": "code",
      "source": [
        "domain = \"http://sharebook.kr\"\n",
        "domain_new = domain.split('.')\n",
        "print(domain_new[-1])"
      ],
      "metadata": {
        "colab": {
          "base_uri": "https://localhost:8080/"
        },
        "id": "jTIg-5TAcRAc",
        "outputId": "fef4c317-dfad-4851-c2fb-9222f3dc43ac"
      },
      "execution_count": null,
      "outputs": [
        {
          "output_type": "stream",
          "name": "stdout",
          "text": [
            "kr\n"
          ]
        }
      ]
    },
    {
      "cell_type": "code",
      "source": [
        "string = 'abcdfe2a354a32a'\n",
        "string.replace('a','A')\n",
        "print(string.replace)"
      ],
      "metadata": {
        "colab": {
          "base_uri": "https://localhost:8080/"
        },
        "id": "QKvt_2tadv-w",
        "outputId": "39b04b31-f9ab-4f5a-de81-4ed3fef468ba"
      },
      "execution_count": null,
      "outputs": [
        {
          "output_type": "stream",
          "name": "stdout",
          "text": [
            "<built-in method replace of str object at 0x7f9200888bf0>\n"
          ]
        }
      ]
    },
    {
      "cell_type": "code",
      "source": [
        "string = 'abcdfe2a354a32a'\n",
        "new_string = string.replace('a','A')\n",
        "print(new_string)"
      ],
      "metadata": {
        "colab": {
          "base_uri": "https://localhost:8080/"
        },
        "id": "_iUIdTxJe3io",
        "outputId": "1c5be549-3cc6-4e45-b38d-e54e290a97f0"
      },
      "execution_count": null,
      "outputs": [
        {
          "output_type": "stream",
          "name": "stdout",
          "text": [
            "Abcdfe2A354A32A\n"
          ]
        }
      ]
    },
    {
      "cell_type": "code",
      "source": [
        ""
      ],
      "metadata": {
        "id": "2C6EbdJafaas"
      },
      "execution_count": null,
      "outputs": []
    }
  ]
}
