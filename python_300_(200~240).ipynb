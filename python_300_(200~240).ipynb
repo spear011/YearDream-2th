{
  "nbformat": 4,
  "nbformat_minor": 0,
  "metadata": {
    "colab": {
      "name": "python 300 (200~240).ipynb",
      "provenance": [],
      "collapsed_sections": [],
      "authorship_tag": "ABX9TyOeRyGio4EXA2kxkmP9hWQA",
      "include_colab_link": true
    },
    "kernelspec": {
      "name": "python3",
      "display_name": "Python 3"
    },
    "language_info": {
      "name": "python"
    }
  },
  "cells": [
    {
      "cell_type": "markdown",
      "metadata": {
        "id": "view-in-github",
        "colab_type": "text"
      },
      "source": [
        "<a href=\"https://colab.research.google.com/github/spear011/YearDream-2th/blob/main/python_300_(200~240).ipynb\" target=\"_parent\"><img src=\"https://colab.research.google.com/assets/colab-badge.svg\" alt=\"Open In Colab\"/></a>"
      ]
    },
    {
      "cell_type": "code",
      "execution_count": null,
      "metadata": {
        "colab": {
          "base_uri": "https://localhost:8080/"
        },
        "id": "eiU1JIaxRc0a",
        "outputId": "a31d3256-c7b3-49be-dd5a-5bf2af0e1a6e"
      },
      "outputs": [
        {
          "output_type": "stream",
          "name": "stdout",
          "text": [
            "비트코인\n"
          ]
        }
      ],
      "source": [
        "def print_coin() :\n",
        "    print(\"비트코인\")\n",
        "\n",
        "print_coin()"
      ]
    },
    {
      "cell_type": "code",
      "source": [
        "for i in range(10) :\n",
        "    print_coin()\n"
      ],
      "metadata": {
        "colab": {
          "base_uri": "https://localhost:8080/"
        },
        "id": "QjDfIbewRpm5",
        "outputId": "d712cda4-0ffa-4e21-d55d-032dd058eb74"
      },
      "execution_count": null,
      "outputs": [
        {
          "output_type": "stream",
          "name": "stdout",
          "text": [
            "비트코인\n",
            "비트코인\n",
            "비트코인\n",
            "비트코인\n",
            "비트코인\n",
            "비트코인\n",
            "비트코인\n",
            "비트코인\n",
            "비트코인\n",
            "비트코인\n"
          ]
        }
      ]
    },
    {
      "cell_type": "code",
      "source": [
        "def coins() :\n",
        "    for i in range(10) :\n",
        "        print(\"new coin\")\n",
        "\n",
        "coins()"
      ],
      "metadata": {
        "colab": {
          "base_uri": "https://localhost:8080/"
        },
        "id": "9BjwEzNqTHaB",
        "outputId": "416a2168-95b3-423d-d7ef-a5a4e176210b"
      },
      "execution_count": null,
      "outputs": [
        {
          "output_type": "stream",
          "name": "stdout",
          "text": [
            "new coin\n",
            "new coin\n",
            "new coin\n",
            "new coin\n",
            "new coin\n",
            "new coin\n",
            "new coin\n",
            "new coin\n",
            "new coin\n",
            "new coin\n"
          ]
        }
      ]
    },
    {
      "cell_type": "code",
      "source": [
        "def new(a, b) :\n",
        "    print(a + b)\n",
        "\n",
        "new(\"2\",\"1\")"
      ],
      "metadata": {
        "colab": {
          "base_uri": "https://localhost:8080/"
        },
        "id": "ETDVdKwhThOW",
        "outputId": "be64f9c5-b82f-409b-e3e3-42758ceb1045"
      },
      "execution_count": null,
      "outputs": [
        {
          "output_type": "stream",
          "name": "stdout",
          "text": [
            "21\n"
          ]
        }
      ]
    },
    {
      "cell_type": "code",
      "source": [
        "def smile(a) :\n",
        "    print(f\"{a} :D\")\n",
        "\n",
        "smile(\"happy\")"
      ],
      "metadata": {
        "colab": {
          "base_uri": "https://localhost:8080/"
        },
        "id": "omFikS-ZUNo0",
        "outputId": "49991651-4d97-44fb-d43c-99bce73595ac"
      },
      "execution_count": null,
      "outputs": [
        {
          "output_type": "stream",
          "name": "stdout",
          "text": [
            "happy :D\n"
          ]
        }
      ]
    },
    {
      "cell_type": "code",
      "source": [
        "def price(a) :\n",
        "    print(a * 1.3)\n",
        "\n",
        "price(130)"
      ],
      "metadata": {
        "colab": {
          "base_uri": "https://localhost:8080/"
        },
        "id": "xX8brHQtU3mM",
        "outputId": "ed0c0d51-c8e0-4966-df5a-2879fec1ab07"
      },
      "execution_count": null,
      "outputs": [
        {
          "output_type": "stream",
          "name": "stdout",
          "text": [
            "169.0\n"
          ]
        }
      ]
    },
    {
      "cell_type": "code",
      "source": [
        "def print_upper_price(price) :\n",
        "    print(price * 1.3)\n",
        "\n",
        "print_upper_price(30)"
      ],
      "metadata": {
        "colab": {
          "base_uri": "https://localhost:8080/"
        },
        "id": "5WHPno56VSrk",
        "outputId": "200070b4-f325-4a80-dd1c-9aca6ac1adc2"
      },
      "execution_count": null,
      "outputs": [
        {
          "output_type": "stream",
          "name": "stdout",
          "text": [
            "39.0\n"
          ]
        }
      ]
    },
    {
      "cell_type": "code",
      "source": [
        "def price(a,b) :\n",
        "    print(a+b)\n",
        "\n",
        "price(130, 130)"
      ],
      "metadata": {
        "colab": {
          "base_uri": "https://localhost:8080/"
        },
        "id": "XmbUZyRMVkoY",
        "outputId": "ff8e2082-8a02-4adc-d344-0fda6ce8900f"
      },
      "execution_count": null,
      "outputs": [
        {
          "output_type": "stream",
          "name": "stdout",
          "text": [
            "260\n"
          ]
        }
      ]
    },
    {
      "cell_type": "code",
      "source": [
        "def price(a,b) :\n",
        "    print(\"a + b =\", a+b)\n",
        "    print(\"a x b =\", a*b)\n",
        "    print(\"a - b =\", a-b)\n",
        "    print(\"a / b =\", a/b)\n",
        "\n",
        "price(130, 130)"
      ],
      "metadata": {
        "colab": {
          "base_uri": "https://localhost:8080/"
        },
        "id": "2EW32VMnVwk_",
        "outputId": "e6401167-b6e3-4991-aa55-84d46e99b3ea"
      },
      "execution_count": null,
      "outputs": [
        {
          "output_type": "stream",
          "name": "stdout",
          "text": [
            "a + b = 260\n",
            "a x b = 16900\n",
            "a - b = 0\n",
            "a / b = 1.0\n"
          ]
        }
      ]
    },
    {
      "cell_type": "code",
      "source": [
        "def A(a,b,c) :\n",
        "    if a > b and a > c:\n",
        "        print(a)\n",
        "    elif b > a and b > c :\n",
        "        print(b)\n",
        "    elif c > a and c > a:\n",
        "        print(c)\n",
        "\n",
        "A(1,2,3)\n",
        "\n"
      ],
      "metadata": {
        "colab": {
          "base_uri": "https://localhost:8080/"
        },
        "id": "WD9cVBNkWCtn",
        "outputId": "303c020e-1a0d-4f04-ffd1-86d9ec1a311d"
      },
      "execution_count": null,
      "outputs": [
        {
          "output_type": "stream",
          "name": "stdout",
          "text": [
            "3\n"
          ]
        }
      ]
    },
    {
      "cell_type": "code",
      "source": [
        "def print_reverse(a):\n",
        "    print(a[::-1])\n",
        "\n",
        "print_reverse(\"python\")"
      ],
      "metadata": {
        "id": "FUCXQdhwW3xt",
        "colab": {
          "base_uri": "https://localhost:8080/"
        },
        "outputId": "a4d027ec-9055-4797-a499-d644fef34df1"
      },
      "execution_count": null,
      "outputs": [
        {
          "output_type": "stream",
          "name": "stdout",
          "text": [
            "nohtyp\n"
          ]
        }
      ]
    },
    {
      "cell_type": "code",
      "source": [
        "score_list = ([1, 2, 3])\n",
        "\n",
        "def avg(a) :\n",
        "    print(sum(a) / len(a))\n",
        "\n",
        "avg(score_list)"
      ],
      "metadata": {
        "colab": {
          "base_uri": "https://localhost:8080/"
        },
        "id": "qNjgcJxc3zns",
        "outputId": "68481e52-0496-4e8a-f10a-b06b10fe79bd"
      },
      "execution_count": null,
      "outputs": [
        {
          "output_type": "stream",
          "name": "stdout",
          "text": [
            "2.0\n"
          ]
        }
      ]
    },
    {
      "cell_type": "code",
      "source": [
        "even = ([1, 3, 2, 10, 12, 11, 15])\n",
        "\n",
        "def two(a) :\n",
        "    for a in a:\n",
        "        if a % 2 == 0 :\n",
        "            print(a)\n",
        "\n",
        "two(even)"
      ],
      "metadata": {
        "colab": {
          "base_uri": "https://localhost:8080/"
        },
        "id": "UJCuaTs-4SB8",
        "outputId": "e1fe4664-6643-4fe8-b6a3-508b0e22108f"
      },
      "execution_count": null,
      "outputs": [
        {
          "output_type": "stream",
          "name": "stdout",
          "text": [
            "2\n",
            "10\n",
            "12\n"
          ]
        }
      ]
    },
    {
      "cell_type": "code",
      "source": [
        "a = ({\"이름\":\"김말똥\", \"나이\":30, \"성별\":0})\n",
        "\n",
        "def print_keys(i) :\n",
        "    print(i.keys())\n",
        "\n",
        "print_keys(a)"
      ],
      "metadata": {
        "colab": {
          "base_uri": "https://localhost:8080/"
        },
        "id": "znLAEav15i4X",
        "outputId": "9391139c-1954-43e5-af90-0acb58eb757f"
      },
      "execution_count": null,
      "outputs": [
        {
          "output_type": "stream",
          "name": "stdout",
          "text": [
            "dict_keys(['이름', '나이', '성별'])\n"
          ]
        }
      ]
    },
    {
      "cell_type": "code",
      "source": [
        "print(a[\"이름\"])"
      ],
      "metadata": {
        "colab": {
          "base_uri": "https://localhost:8080/"
        },
        "id": "NZHTYK7264jH",
        "outputId": "f273be0f-32c6-40b0-f70c-b2c6090ae05f"
      },
      "execution_count": null,
      "outputs": [
        {
          "output_type": "stream",
          "name": "stdout",
          "text": [
            "김말똥\n"
          ]
        }
      ]
    },
    {
      "cell_type": "code",
      "source": [
        "my_dict = {\"10/26\" : [100, 130, 100, 100],\n",
        "           \"10/27\" : [10, 12, 10, 11]}\n",
        "\n",
        "def ohlc(a,b) :\n",
        "    print(a[b])\n",
        "\n",
        "ohlc(my_dict, \"10/26\")"
      ],
      "metadata": {
        "colab": {
          "base_uri": "https://localhost:8080/"
        },
        "id": "ZJzgdEWK7S0K",
        "outputId": "20df4cf8-ddfe-4949-b446-c780a0abd18d"
      },
      "execution_count": null,
      "outputs": [
        {
          "output_type": "stream",
          "name": "stdout",
          "text": [
            "[100, 130, 100, 100]\n"
          ]
        }
      ]
    },
    {
      "cell_type": "code",
      "source": [
        "# calc_monthly_salary(annual_salary)\n",
        "\n",
        "def calc_monthly_salary(a) :\n",
        "    print(int(a) / 12)\n",
        "\n",
        "calc_monthly_salary(5600000)"
      ],
      "metadata": {
        "colab": {
          "base_uri": "https://localhost:8080/"
        },
        "id": "W1guyUIv7_o7",
        "outputId": "f809d509-623a-45a8-ff48-961db1a94ad6"
      },
      "execution_count": null,
      "outputs": [
        {
          "output_type": "stream",
          "name": "stdout",
          "text": [
            "466666.6666666667\n"
          ]
        }
      ]
    },
    {
      "cell_type": "code",
      "source": [
        "def calc_monthly_salary(annual_pay) :\n",
        "    monthly_pay = int(annual_pay / 12)\n",
        "    return monthly_pay\n",
        "    \n",
        "calc_monthly_salary(5600000)"
      ],
      "metadata": {
        "colab": {
          "base_uri": "https://localhost:8080/"
        },
        "id": "tLsImufU9DIB",
        "outputId": "1f04ad02-8e9d-4e5e-b2c5-72537860b657"
      },
      "execution_count": null,
      "outputs": [
        {
          "output_type": "execute_result",
          "data": {
            "text/plain": [
              "466666"
            ]
          },
          "metadata": {},
          "execution_count": 33
        }
      ]
    },
    {
      "cell_type": "code",
      "source": [
        "def make_url(a) :\n",
        "    print(f\"www.{a}.com\")\n",
        "\n",
        "make_url(\"naver\")"
      ],
      "metadata": {
        "id": "oXTQ6tlf9Xr6",
        "colab": {
          "base_uri": "https://localhost:8080/"
        },
        "outputId": "38cf9d11-8fc5-4c11-a60e-e2661e660149"
      },
      "execution_count": null,
      "outputs": [
        {
          "output_type": "stream",
          "name": "stdout",
          "text": [
            "www.naver.com\n"
          ]
        }
      ]
    },
    {
      "cell_type": "code",
      "source": [
        "def make_url(a) :\n",
        "    domain = \"www.\" + a + \".com\"\n",
        "    return domain\n",
        "\n",
        "make_url(\"naver\")"
      ],
      "metadata": {
        "colab": {
          "base_uri": "https://localhost:8080/",
          "height": 36
        },
        "id": "OCyju6FhNuK1",
        "outputId": "8352e8e6-8f48-4c91-bfdb-3d804687aeb3"
      },
      "execution_count": null,
      "outputs": [
        {
          "output_type": "execute_result",
          "data": {
            "text/plain": [
              "'www.naver.com'"
            ],
            "application/vnd.google.colaboratory.intrinsic+json": {
              "type": "string"
            }
          },
          "metadata": {},
          "execution_count": 10
        }
      ]
    },
    {
      "cell_type": "code",
      "source": [
        "def make_list(a) :\n",
        "    data = []\n",
        "    for i in a :\n",
        "        data.append(i)\n",
        "    return data\n",
        "\n",
        "make_list(\"abcd\")"
      ],
      "metadata": {
        "colab": {
          "base_uri": "https://localhost:8080/"
        },
        "id": "938XjIRRLILK",
        "outputId": "f905ac66-61a5-4ce6-8b65-c0d3251f47fe"
      },
      "execution_count": null,
      "outputs": [
        {
          "output_type": "execute_result",
          "data": {
            "text/plain": [
              "['a', 'b', 'c', 'd']"
            ]
          },
          "metadata": {},
          "execution_count": 12
        }
      ]
    },
    {
      "cell_type": "code",
      "source": [
        "def pickup_even(a) :\n",
        "    data = []\n",
        "    for i in a:\n",
        "        if i % 2 == 0 :\n",
        "            data.append(i)\n",
        "    return data\n",
        "\n",
        "pickup_even([3, 4, 5, 6, 7, 8])"
      ],
      "metadata": {
        "colab": {
          "base_uri": "https://localhost:8080/"
        },
        "id": "1UFIkjglLpDC",
        "outputId": "136ac754-0bc5-464d-ebfb-191da9b41513"
      },
      "execution_count": null,
      "outputs": [
        {
          "output_type": "execute_result",
          "data": {
            "text/plain": [
              "[4, 6, 8]"
            ]
          },
          "metadata": {},
          "execution_count": 13
        }
      ]
    },
    {
      "cell_type": "code",
      "source": [
        "def convert_int(a) :\n",
        "    b = int(a.replace(\",\",\"\"))\n",
        "    return b\n",
        "\n",
        "convert_int(\"1,234,567\")"
      ],
      "metadata": {
        "colab": {
          "base_uri": "https://localhost:8080/"
        },
        "id": "JjHkxNycQYUI",
        "outputId": "6ef368e1-9650-4775-c17a-92b724049148"
      },
      "execution_count": null,
      "outputs": [
        {
          "output_type": "execute_result",
          "data": {
            "text/plain": [
              "1234567"
            ]
          },
          "metadata": {},
          "execution_count": 16
        }
      ]
    },
    {
      "cell_type": "code",
      "source": [
        "def 함수(num) :\n",
        "    return num + 4\n",
        "\n",
        "a = 함수(10)\n",
        "b = 함수(a)\n",
        "c = 함수(b)\n",
        "print(c)"
      ],
      "metadata": {
        "colab": {
          "base_uri": "https://localhost:8080/"
        },
        "id": "uuuYMErpSfIY",
        "outputId": "e4bbea52-f476-4104-ed94-fd08f92e09d1"
      },
      "execution_count": null,
      "outputs": [
        {
          "output_type": "stream",
          "name": "stdout",
          "text": [
            "22\n"
          ]
        }
      ]
    },
    {
      "cell_type": "code",
      "source": [
        ""
      ],
      "metadata": {
        "id": "7BHeHbUTTDcP"
      },
      "execution_count": null,
      "outputs": []
    }
  ]
}